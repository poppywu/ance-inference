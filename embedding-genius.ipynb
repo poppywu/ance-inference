{
 "cells": [
  {
   "cell_type": "markdown",
   "metadata": {},
   "source": [
    "Group Project"
   ]
  },
  {
   "cell_type": "markdown",
   "metadata": {},
   "source": [
    "Setting up enviroment\n",
    "- Need to run conda env create -f env.yml to install some default packages\n",
    "- Need to run the pip install <PACKAGE_NAME> to install model specific packages"
   ]
  },
  {
   "cell_type": "code",
   "execution_count": 1,
   "metadata": {
    "vscode": {
     "languageId": "plaintext"
    }
   },
   "outputs": [
    {
     "name": "stdout",
     "output_type": "stream",
     "text": [
      "Requirement already satisfied: sentence_transformers in /opt/anaconda3/lib/python3.11/site-packages (3.0.1)\n",
      "Requirement already satisfied: transformers<5.0.0,>=4.34.0 in /opt/anaconda3/lib/python3.11/site-packages (from sentence_transformers) (4.41.2)\n",
      "Requirement already satisfied: tqdm in /opt/anaconda3/lib/python3.11/site-packages (from sentence_transformers) (4.66.4)\n",
      "Requirement already satisfied: torch>=1.11.0 in /opt/anaconda3/lib/python3.11/site-packages (from sentence_transformers) (2.3.1)\n",
      "Requirement already satisfied: numpy in /opt/anaconda3/lib/python3.11/site-packages (from sentence_transformers) (1.26.4)\n",
      "Requirement already satisfied: scikit-learn in /opt/anaconda3/lib/python3.11/site-packages (from sentence_transformers) (1.2.2)\n",
      "Requirement already satisfied: scipy in /opt/anaconda3/lib/python3.11/site-packages (from sentence_transformers) (1.11.4)\n",
      "Requirement already satisfied: huggingface-hub>=0.15.1 in /opt/anaconda3/lib/python3.11/site-packages (from sentence_transformers) (0.23.4)\n",
      "Requirement already satisfied: Pillow in /opt/anaconda3/lib/python3.11/site-packages (from sentence_transformers) (10.2.0)\n",
      "Requirement already satisfied: filelock in /opt/anaconda3/lib/python3.11/site-packages (from huggingface-hub>=0.15.1->sentence_transformers) (3.13.1)\n",
      "Requirement already satisfied: fsspec>=2023.5.0 in /opt/anaconda3/lib/python3.11/site-packages (from huggingface-hub>=0.15.1->sentence_transformers) (2023.10.0)\n",
      "Requirement already satisfied: packaging>=20.9 in /opt/anaconda3/lib/python3.11/site-packages (from huggingface-hub>=0.15.1->sentence_transformers) (23.1)\n",
      "Requirement already satisfied: pyyaml>=5.1 in /opt/anaconda3/lib/python3.11/site-packages (from huggingface-hub>=0.15.1->sentence_transformers) (6.0.1)\n",
      "Requirement already satisfied: requests in /opt/anaconda3/lib/python3.11/site-packages (from huggingface-hub>=0.15.1->sentence_transformers) (2.32.3)\n",
      "Requirement already satisfied: typing-extensions>=3.7.4.3 in /opt/anaconda3/lib/python3.11/site-packages (from huggingface-hub>=0.15.1->sentence_transformers) (4.9.0)\n",
      "Requirement already satisfied: sympy in /opt/anaconda3/lib/python3.11/site-packages (from torch>=1.11.0->sentence_transformers) (1.12)\n",
      "Requirement already satisfied: networkx in /opt/anaconda3/lib/python3.11/site-packages (from torch>=1.11.0->sentence_transformers) (3.1)\n",
      "Requirement already satisfied: jinja2 in /opt/anaconda3/lib/python3.11/site-packages (from torch>=1.11.0->sentence_transformers) (3.1.3)\n",
      "Requirement already satisfied: regex!=2019.12.17 in /opt/anaconda3/lib/python3.11/site-packages (from transformers<5.0.0,>=4.34.0->sentence_transformers) (2023.10.3)\n",
      "Requirement already satisfied: tokenizers<0.20,>=0.19 in /opt/anaconda3/lib/python3.11/site-packages (from transformers<5.0.0,>=4.34.0->sentence_transformers) (0.19.1)\n",
      "Requirement already satisfied: safetensors>=0.4.1 in /opt/anaconda3/lib/python3.11/site-packages (from transformers<5.0.0,>=4.34.0->sentence_transformers) (0.4.3)\n",
      "Requirement already satisfied: joblib>=1.1.1 in /opt/anaconda3/lib/python3.11/site-packages (from scikit-learn->sentence_transformers) (1.2.0)\n",
      "Requirement already satisfied: threadpoolctl>=2.0.0 in /opt/anaconda3/lib/python3.11/site-packages (from scikit-learn->sentence_transformers) (2.2.0)\n",
      "Requirement already satisfied: MarkupSafe>=2.0 in /opt/anaconda3/lib/python3.11/site-packages (from jinja2->torch>=1.11.0->sentence_transformers) (2.1.3)\n",
      "Requirement already satisfied: charset-normalizer<4,>=2 in /opt/anaconda3/lib/python3.11/site-packages (from requests->huggingface-hub>=0.15.1->sentence_transformers) (2.0.4)\n",
      "Requirement already satisfied: idna<4,>=2.5 in /opt/anaconda3/lib/python3.11/site-packages (from requests->huggingface-hub>=0.15.1->sentence_transformers) (3.4)\n",
      "Requirement already satisfied: urllib3<3,>=1.21.1 in /opt/anaconda3/lib/python3.11/site-packages (from requests->huggingface-hub>=0.15.1->sentence_transformers) (2.0.7)\n",
      "Requirement already satisfied: certifi>=2017.4.17 in /opt/anaconda3/lib/python3.11/site-packages (from requests->huggingface-hub>=0.15.1->sentence_transformers) (2024.2.2)\n",
      "Requirement already satisfied: mpmath>=0.19 in /opt/anaconda3/lib/python3.11/site-packages (from sympy->torch>=1.11.0->sentence_transformers) (1.3.0)\n",
      "Note: you may need to restart the kernel to use updated packages.\n"
     ]
    }
   ],
   "source": [
    "pip install sentence_transformers"
   ]
  },
  {
   "cell_type": "markdown",
   "metadata": {},
   "source": [
    "Running evaluation of ANCE model inference on MSMACRO and NQ dataset"
   ]
  },
  {
   "cell_type": "code",
   "execution_count": 2,
   "metadata": {
    "vscode": {
     "languageId": "plaintext"
    }
   },
   "outputs": [
    {
     "data": {
      "application/vnd.jupyter.widget-view+json": {
       "model_id": "8b1f9608e5f04ab99df9baeb104b5106",
       "version_major": 2,
       "version_minor": 0
      },
      "text/plain": [
       "Filter:   0%|          | 0/8841823 [00:00<?, ? examples/s]"
      ]
     },
     "metadata": {},
     "output_type": "display_data"
    },
    {
     "name": "stderr",
     "output_type": "stream",
     "text": [
      "/opt/anaconda3/lib/python3.11/site-packages/huggingface_hub/file_download.py:1132: FutureWarning: `resume_download` is deprecated and will be removed in version 1.0.0. Downloads always resume when possible. If you want to force a new download, use `force_download=True`.\n",
      "  warnings.warn(\n"
     ]
    },
    {
     "name": "stdout",
     "output_type": "stream",
     "text": [
      "{'ANCE-evaluation_cosine_accuracy@1': 0.9088825214899714, 'ANCE-evaluation_cosine_accuracy@3': 0.9693409742120344, 'ANCE-evaluation_cosine_accuracy@5': 0.9785100286532952, 'ANCE-evaluation_cosine_accuracy@10': 0.985243553008596, 'ANCE-evaluation_cosine_precision@1': 0.9088825214899714, 'ANCE-evaluation_cosine_precision@3': 0.34102196752626546, 'ANCE-evaluation_cosine_precision@5': 0.20722063037249286, 'ANCE-evaluation_cosine_precision@10': 0.10469914040114614, 'ANCE-evaluation_cosine_recall@1': 0.8813395415472779, 'ANCE-evaluation_cosine_recall@3': 0.9648400191021969, 'ANCE-evaluation_cosine_recall@5': 0.9752507163323783, 'ANCE-evaluation_cosine_recall@10': 0.9835959885386819, 'ANCE-evaluation_cosine_ndcg@10': 0.9495038716459694, 'ANCE-evaluation_cosine_mrr@10': 0.9401582184927448, 'ANCE-evaluation_cosine_map@100': 0.9376737315085123, 'ANCE-evaluation_dot_accuracy@1': 0.9156160458452722, 'ANCE-evaluation_dot_accuracy@3': 0.971919770773639, 'ANCE-evaluation_dot_accuracy@5': 0.9826647564469914, 'ANCE-evaluation_dot_accuracy@10': 0.9891117478510029, 'ANCE-evaluation_dot_precision@1': 0.9156160458452722, 'ANCE-evaluation_dot_precision@3': 0.34226361031518626, 'ANCE-evaluation_dot_precision@5': 0.20842406876790834, 'ANCE-evaluation_dot_precision@10': 0.10510028653295131, 'ANCE-evaluation_dot_recall@1': 0.8875955109837632, 'ANCE-evaluation_dot_recall@3': 0.9678247373447946, 'ANCE-evaluation_dot_recall@5': 0.9801575931232092, 'ANCE-evaluation_dot_recall@10': 0.9875835721107927, 'ANCE-evaluation_dot_ndcg@10': 0.9542548487730299, 'ANCE-evaluation_dot_mrr@10': 0.9451304748260329, 'ANCE-evaluation_dot_map@100': 0.942553830019643}\n"
     ]
    }
   ],
   "source": [
    "from utils.data_loader import DataLoader\n",
    "from evaluate.embedding_evaluate import EmbeddingEvaluator\n",
    "\n",
    "data_loader_msmacro = DataLoader(\n",
    "    corpus_name=\"BeIR/msmarco\",\n",
    "    queries_name=\"BeIR/msmarco\",\n",
    "    relevant_docs_name=\"BeIR/msmarco-qrels\"\n",
    ")\n",
    "\n",
    "\n",
    "embedding_evaluator_ance_msmacro = EmbeddingEvaluator(\n",
    "    model_type = 'ANCE',\n",
    "    data_loader = data_loader_msmacro\n",
    ")\n",
    "\n",
    "\n",
    "result_ance_msmacro = embedding_evaluator_ance_msmacro.evaluate()\n",
    "print(result_ance_msmacro)"
   ]
  },
  {
   "cell_type": "code",
   "execution_count": null,
   "metadata": {},
   "outputs": [],
   "source": [
    "data_loader_nq = DataLoader(\n",
    "    corpus_name=\"BeIR/nq\",\n",
    "    queries_name=\"BeIR/nq\",\n",
    "    relevant_docs_name=\"BeIR/nq-qrels\"\n",
    ")\n",
    "\n",
    "embedding_evaluator_ance_nq = EmbeddingEvaluator(\n",
    "    model_type = 'ANCE',\n",
    "    data_loader = data_loader_nq\n",
    ")\n",
    "result_ance_nq = embedding_evaluator_ance_nq.evaluate()\n",
    "print(result_ance_nq)"
   ]
  },
  {
   "cell_type": "code",
   "execution_count": null,
   "metadata": {},
   "outputs": [],
   "source": []
  }
 ],
 "metadata": {
  "kernelspec": {
   "display_name": "Python 3 (ipykernel)",
   "language": "python",
   "name": "python3"
  },
  "language_info": {
   "codemirror_mode": {
    "name": "ipython",
    "version": 3
   },
   "file_extension": ".py",
   "mimetype": "text/x-python",
   "name": "python",
   "nbconvert_exporter": "python",
   "pygments_lexer": "ipython3",
   "version": "3.11.7"
  }
 },
 "nbformat": 4,
 "nbformat_minor": 2
}
